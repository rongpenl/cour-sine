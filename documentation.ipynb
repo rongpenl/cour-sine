{
 "cells": [
  {
   "cell_type": "markdown",
   "metadata": {},
   "source": [
    "## Outline\n",
    "#### 1. Design choices and code structure\n",
    "#### 2. Demo of usage\n",
    "#### 3. Summary of results"
   ]
  },
  {
   "cell_type": "code",
   "execution_count": null,
   "metadata": {},
   "outputs": [],
   "source": []
  },
  {
   "cell_type": "markdown",
   "metadata": {},
   "source": [
    "### Design choices and code structure\n",
    "\n",
    "The tasks require fast querying of relevant courses, usc or ucla, given a string or course id. Initial tests show that a real-time training/prediction is too slow to be usable.\n",
    "\n",
    "The system is therefore separated into the following two parts.\n",
    "\n",
    "1. Offline part. \n",
    "    1. crawler.py : crawl functions to crawl, parse and organize the USC and UCLA websites.\n",
    "    2. preprocessor.py: preprocess the description fields into usable informations\n",
    "    3. model.py: estimator classes for the trainable algorithms and enable sklearn-style trainning and prediction. The training is done on ordered course pair and the ground truth is taken from a bert model.\n",
    "    3. dataPreparer.py: call crawl and preprocessor functions to save useful data structures locally in the `data` directory.\n",
    "    \n",
    "2. Online part\n",
    "    1. api.py: offer usable apis the end user can use to perform the required tasks\n",
    "    \n",
    "**The two parts are decoupled and the offline part only runs to obtain data/model and the online part runs making use of the data and model.**\n",
    "\n",
    "The user can perform the tasks without knowing how the offline part works.\n",
    "\n",
    "Notes:\n",
    "\n",
    "1. For obtaining ground truth, please refer to the `_pseudoGroundTruth()` function in dataPreparer.py. The t-SNE plot of the ground truth is in the root directory.\n",
    "2. The training with cross-validation is very hard to obtain on laptop. Therefore, I obtain best parameters from small scale cross-validation and used the parameters to train doc2vec and word2vec models with whole datasets.\n",
    "3. The similarity scores obtained on USC datasets from various algorithms are zeroed and normalized to fall in the range [-1,1] roughly. However, it is still not recommended to compare them numerically across algorithms.\n",
    "4. Pre-trained `glove` model is large and requires downloading, not recommended in general. Our trained word2vec model works actually better.\n",
    "5. Only UCLA Computer Science courses are obtained based on the link provided. It is recommended to only query USC *CSCI*, *EE* or other CS-relevant courses to obtain sensible prediction.\n",
    "6. There are some *magic numbers* in the code. For example, description shorter than 140 characters are discarded. This is done by manual intervention.\n",
    "7. The `bert_vecs.npy` is **required** if you want to build all the data/model from scratch.\n",
    "\n",
    "The t-SNE visualization of USC courses, the pseudo ground truth.\n",
    "<img src=\"bert_tsne.png\">"
   ]
  },
  {
   "cell_type": "markdown",
   "metadata": {},
   "source": [
    "### How to use\n",
    "\n",
    "#### set up an environment and install dependencies\n",
    "\n",
    "`\n",
    "virtualenv cour-sine\n",
    "source cour-sine/bin/activate\n",
    "pip3 install -r requirements.txt\n",
    "`"
   ]
  },
  {
   "cell_type": "markdown",
   "metadata": {},
   "source": [
    "#### run this notebook in the root directory"
   ]
  },
  {
   "cell_type": "code",
   "execution_count": 1,
   "metadata": {},
   "outputs": [],
   "source": [
    "from crawler import *\n",
    "from preprocessor import *\n",
    "from model import Model,word2vecEstimator, doc2vecEstimator\n",
    "from dataPreparer import initPrepare, splitDataSets\n",
    "from api import API, dataSaver, uclaDataSaver\n",
    "%reload_ext autoreload\n",
    "%autoreload 2"
   ]
  },
  {
   "cell_type": "markdown",
   "metadata": {},
   "source": [
    "If you didn't download the data directory, you should run the following functions to obtain essential data."
   ]
  },
  {
   "cell_type": "markdown",
   "metadata": {},
   "source": [
    "#### Optional, prepare data/model"
   ]
  },
  {
   "cell_type": "code",
   "execution_count": null,
   "metadata": {},
   "outputs": [],
   "source": [
    "# dataSaver() process usc data\n",
    "#dataSaver() \n",
    "#uclaDataSaver()\n",
    "\"\"\"\n",
    "This may take long time to prepare all the data/model. \n",
    "It is recommended to download the json and pickle files in data directory instead. \n",
    "\"\"\"\n"
   ]
  },
  {
   "cell_type": "markdown",
   "metadata": {},
   "source": [
    "#### task 1 (step 5)"
   ]
  },
  {
   "cell_type": "code",
   "execution_count": 2,
   "metadata": {},
   "outputs": [],
   "source": [
    "api1 = API(model_algo=\"word2vec\")\n",
    "# obtain an api"
   ]
  },
  {
   "cell_type": "code",
   "execution_count": 11,
   "metadata": {},
   "outputs": [
    {
     "data": {
      "text/plain": [
       "[('INF523', 0.740815947376884),\n",
       " ('INF519', 0.6273749754213924),\n",
       " ('AME504', 0.5761393749970287),\n",
       " ('ISE511', 0.5761393749970287),\n",
       " ('CSCI698', 0.5456715462352361),\n",
       " ('ITP125', 0.5247774660665223),\n",
       " ('EE364', 0.5186429628542043),\n",
       " ('AME101', 0.5054647257811945),\n",
       " ('INF564', 0.4823314468225002),\n",
       " ('CSCI455', 0.4538234187204982)]"
      ]
     },
     "execution_count": 11,
     "metadata": {},
     "output_type": "execute_result"
    }
   ],
   "source": [
    "api1.stringQuery(\"Computer science and information technology\")\n",
    "# we obtain the top 10 usc courses"
   ]
  },
  {
   "cell_type": "code",
   "execution_count": 13,
   "metadata": {},
   "outputs": [
    {
     "data": {
      "text/plain": [
       "[('BME620', 0.3476774624888304),\n",
       " ('MASC110', 0.3368267264626211),\n",
       " ('MEDS504', 0.3347385337453451),\n",
       " ('MEDS330', 0.3151141787241474),\n",
       " ('INTD620', 0.30326830357491463),\n",
       " ('CHE447', 0.25068635806137207),\n",
       " ('BIOC581', 0.2501599592884137),\n",
       " ('BME452', 0.24565455628183017),\n",
       " ('SCRM513', 0.24192726564903963),\n",
       " ('AME309', 0.23541384503903667)]"
      ]
     },
     "execution_count": 13,
     "metadata": {},
     "output_type": "execute_result"
    }
   ],
   "source": [
    "api1.stringQuery(\"Medical biology and its chemical nature.\")\n",
    "# try another string"
   ]
  },
  {
   "cell_type": "code",
   "execution_count": 8,
   "metadata": {},
   "outputs": [],
   "source": [
    "api2 = API(model_algo=\"Jaccard\")"
   ]
  },
  {
   "cell_type": "code",
   "execution_count": 23,
   "metadata": {},
   "outputs": [
    {
     "data": {
      "text/plain": [
       "[('CSCI495', 0.125),\n",
       " ('BME505A', 0.11764705882352941),\n",
       " ('CSCI544', 0.11764705882352941),\n",
       " ('AME504', 0.10526315789473684),\n",
       " ('CSCI591', 0.10526315789473684),\n",
       " ('ISE511', 0.10526315789473684),\n",
       " ('ITP125', 0.10526315789473684),\n",
       " ('EE364', 0.09523809523809523),\n",
       " ('EE588', 0.09523809523809523),\n",
       " ('ISE440', 0.09523809523809523)]"
      ]
     },
     "execution_count": 23,
     "metadata": {},
     "output_type": "execute_result"
    }
   ],
   "source": [
    "api2.stringQuery(\"Computer science and information technology\")\n",
    "# we obtain the top 10 usc courses but the results now are different. Note the scores are now in a different range."
   ]
  },
  {
   "cell_type": "code",
   "execution_count": 22,
   "metadata": {},
   "outputs": [
    {
     "data": {
      "text/plain": [
       "[('BIOC504', 0.1111111111111111),\n",
       " ('CBG504', 0.1111111111111111),\n",
       " ('INTD504', 0.1111111111111111),\n",
       " ('MICB504', 0.1111111111111111),\n",
       " ('BIOC575', 0.08333333333333333),\n",
       " ('BME406', 0.07142857142857142),\n",
       " ('BIOC581', 0.0625),\n",
       " ('PM559', 0.058823529411764705),\n",
       " ('CSCI566', 0.05555555555555555),\n",
       " ('BIOC561', 0.05263157894736842)]"
      ]
     },
     "execution_count": 22,
     "metadata": {},
     "output_type": "execute_result"
    }
   ],
   "source": [
    "api2.stringQuery(\"cancer and neural biology\")\n",
    "# try another string"
   ]
  },
  {
   "cell_type": "markdown",
   "metadata": {},
   "source": [
    "#### task 2 (step 7.a)"
   ]
  },
  {
   "cell_type": "code",
   "execution_count": 4,
   "metadata": {},
   "outputs": [],
   "source": [
    "# need to explitly import the courses\n",
    "import json\n",
    "import numpy as np\n",
    "with open(\"data/coursenames.json\",\"r\") as fp:\n",
    "    coursenames = json.load(fp)"
   ]
  },
  {
   "cell_type": "code",
   "execution_count": 5,
   "metadata": {},
   "outputs": [],
   "source": [
    "count1 = api1.queryPrereqsCIDs(list(coursenames.keys()))"
   ]
  },
  {
   "cell_type": "code",
   "execution_count": 6,
   "metadata": {},
   "outputs": [
    {
     "data": {
      "text/plain": [
       "0.15384615384615385"
      ]
     },
     "execution_count": 6,
     "metadata": {},
     "output_type": "execute_result"
    }
   ],
   "source": [
    "# Let's only look at those courses who have prerequisites\n",
    "np.mean(np.array(list(filter(lambda x: x >= 0, count1)))>0)"
   ]
  },
  {
   "cell_type": "code",
   "execution_count": 9,
   "metadata": {},
   "outputs": [
    {
     "data": {
      "text/plain": [
       "0.1794871794871795"
      ]
     },
     "execution_count": 9,
     "metadata": {},
     "output_type": "execute_result"
    }
   ],
   "source": [
    "# Try another model\n",
    "count2 = api2.queryPrereqsCIDs(list(coursenames.keys()))\n",
    "np.mean(np.array(list(filter(lambda x: x >= 0, count2)))>0)"
   ]
  },
  {
   "cell_type": "markdown",
   "metadata": {},
   "source": [
    "#### task 3 (step 7.b)\n"
   ]
  },
  {
   "cell_type": "code",
   "execution_count": 65,
   "metadata": {},
   "outputs": [
    {
     "name": "stdout",
     "output_type": "stream",
     "text": [
      "Top10 related courses of BME502:  ['BME502', 'BME202', 'AME404', 'ITP115', 'EE155', 'AME101', 'BME101', 'CSCI401', 'CSCI662', 'CHE501']\n",
      "Top10 related courses of AME105:  ['AME105', 'ASTE101', 'ASTE470', 'AME408', 'ASTE520', 'ASTE331A', 'AME101', 'AME504', 'ISE511', 'AME308']\n",
      "Top10 related courses of ENGR596:  ['ENGR596', 'BIOC596', 'INTD596', 'MBPH596', 'MPHY596', 'PM595', 'CHE550A', 'CHE550B', 'BME567A', 'EE598']\n",
      "Top10 related courses of ITP348:  ['ITP348', 'INF555', 'EE338', 'ITP304', 'ISE545', 'EE354', 'CSCI201', 'EE577A', 'ITP342', 'BME452']\n",
      "Top10 related courses of MICB504:  ['BIOC504', 'CBG504', 'INTD504', 'MICB504', 'BIOC575', 'SCRM513', 'SCRM590', 'INTD522', 'MICB522', 'SCRM580']\n",
      "Top10 related courses of MICB561:  ['BIOC561', 'CNB561', 'INTD561', 'MICB561', 'PATH561', 'PHBI561', 'TRGN514', 'BIOC511', 'TRGN524', 'CHE487']\n",
      "Top10 related courses of ITP342:  ['ITP342', 'CSCI454', 'EE454', 'CSCI571', 'INF555', 'EE155', 'ITP301', 'ITP348', 'ITP304', 'CSCI526']\n",
      "Top10 related courses of PM552:  ['PM552', 'BME423', 'EE660', 'ISE331', 'PM511B', 'BME513', 'PTE505', 'PM544', 'HP340', 'PM511C']\n",
      "Top10 related courses of CHE463:  ['AME463', 'CHE463', 'PTE463', 'PTE411', 'PTE582', 'BME404', 'AME515', 'CHE540', 'AME457', 'AME309']\n",
      "Top10 related courses of EE542:  ['EE542', 'CSCI353', 'EE250', 'CSCI450', 'EE450', 'EE648', 'EE555', 'CSCI537', 'INF551', 'INF550']\n"
     ]
    }
   ],
   "source": [
    "import random\n",
    "# randomly select 10 courses\n",
    "courseIDs = random.sample(list(coursenames.keys()),10)\n",
    "res = api1.querySameSchoolCIDs(courseIDs)"
   ]
  },
  {
   "cell_type": "code",
   "execution_count": 68,
   "metadata": {},
   "outputs": [
    {
     "name": "stdout",
     "output_type": "stream",
     "text": [
      "100.0% of related courses of BME502 are from the same school of the course.\n",
      "100.0% of related courses of AME105 are from the same school of the course.\n",
      "50.0% of related courses of ENGR596 are from the same school of the course.\n",
      "100.0% of related courses of ITP348 are from the same school of the course.\n",
      "100.0% of related courses of MICB504 are from the same school of the course.\n",
      "90.0% of related courses of MICB561 are from the same school of the course.\n",
      "100.0% of related courses of ITP342 are from the same school of the course.\n",
      "50.0% of related courses of PM552 are from the same school of the course.\n",
      "100.0% of related courses of CHE463 are from the same school of the course.\n",
      "100.0% of related courses of EE542 are from the same school of the course.\n"
     ]
    }
   ],
   "source": [
    "# For each of the selected course, the ratio that related courses are from the same school\n",
    "for course, ratio in zip(courseIDs, res):\n",
    "    print(str(ratio*100)+\"% of related courses of \"+ course + \" are from the same school of the course.\" )"
   ]
  },
  {
   "cell_type": "markdown",
   "metadata": {},
   "source": [
    "#### task 4 (step 7.c)"
   ]
  },
  {
   "cell_type": "code",
   "execution_count": 80,
   "metadata": {},
   "outputs": [
    {
     "name": "stdout",
     "output_type": "stream",
     "text": [
      "CSCI570\n",
      "('COMSCI40', '180. Introduction to Algorithms and Complexity')\n",
      "CSCI585\n",
      "('COMSCI25', '143. Database Systems')\n",
      "EE457\n",
      "('COMSCI94', '251A. Advanced Computer Architecture')\n",
      "CSCI567\n",
      "('COMSCI115', '267A. Probabilistic Programming and Relational Learning')\n",
      "CSCI402\n",
      "('COMSCI10', '111. Operating Systems Principles')\n"
     ]
    }
   ],
   "source": [
    "# CSCI courses, looks pretty accurate\n",
    "for usccourse in [\"CSCI570\", \"CSCI585\", \"EE457\", \"CSCI567\", \"CSCI402\"]:\n",
    "    print(usccourse)\n",
    "    print(api1.queryUCLACID(usccourse))"
   ]
  },
  {
   "cell_type": "code",
   "execution_count": 82,
   "metadata": {},
   "outputs": [
    {
     "name": "stdout",
     "output_type": "stream",
     "text": [
      "CSCI570\n",
      "('COMSCI163', '599. Research for and Preparation of PhD Dissertation')\n",
      "CSCI585\n",
      "('COMSCI163', '599. Research for and Preparation of PhD Dissertation')\n",
      "EE457\n",
      "('COMSCI163', '599. Research for and Preparation of PhD Dissertation')\n",
      "CSCI567\n",
      "('COMSCI163', '599. Research for and Preparation of PhD Dissertation')\n",
      "CSCI402\n",
      "('COMSCI163', '599. Research for and Preparation of PhD Dissertation')\n"
     ]
    }
   ],
   "source": [
    "# However, the Jaccard method looks bad\n",
    "for usccourse in [\"CSCI570\", \"CSCI585\", \"EE457\", \"CSCI567\", \"CSCI402\"]:\n",
    "    print(usccourse)\n",
    "    print(api2.queryUCLACID(usccourse))"
   ]
  },
  {
   "cell_type": "markdown",
   "metadata": {},
   "source": [
    "#### Some Visualization and offline part code demostration"
   ]
  },
  {
   "cell_type": "code",
   "execution_count": 84,
   "metadata": {},
   "outputs": [],
   "source": [
    "with open(\"data/pseudoTruthTable.json\",\"r\") as fp:\n",
    "    TRUTHTABLE = json.load(fp)\n",
    "uids = list(TRUTHTABLE.keys())"
   ]
  },
  {
   "cell_type": "code",
   "execution_count": 86,
   "metadata": {},
   "outputs": [
    {
     "data": {
      "text/plain": [
       "['ENGR345-ISE561', 'AME457-MEDS532', 'ASTE524-PM501']"
      ]
     },
     "execution_count": 86,
     "metadata": {},
     "output_type": "execute_result"
    }
   ],
   "source": [
    "random.seed(2019)\n",
    "random.shuffle(uids)\n",
    "uids[:3]  # paired ids"
   ]
  },
  {
   "cell_type": "code",
   "execution_count": 122,
   "metadata": {},
   "outputs": [],
   "source": [
    "from dataPreparer import splitDataSets\n",
    "from preprocessor import Preprocessor\n",
    "p1 = Preprocessor()\n",
    "trainSets, testSets = splitDataSets(uids)\n",
    "model = Model(algo=\"doc2vec\")"
   ]
  },
  {
   "cell_type": "code",
   "execution_count": 105,
   "metadata": {},
   "outputs": [],
   "source": [
    "uids, desc1, desc2, name1, name2 = model.augmentData(trainSets)\n",
    "sentences1 = [p1.process(desc) for desc in desc1]\n",
    "sentences2 = [p1.process(desc) for desc in desc2]"
   ]
  },
  {
   "cell_type": "code",
   "execution_count": 123,
   "metadata": {},
   "outputs": [
    {
     "name": "stderr",
     "output_type": "stream",
     "text": [
      "/usr/local/lib/python3.7/site-packages/sklearn/model_selection/_search.py:814: DeprecationWarning: The default of the `iid` parameter will change from True to False in version 0.22 and will be removed in 0.24. This will change numeric results when test-set sizes are unequal.\n",
      "  DeprecationWarning)\n"
     ]
    },
    {
     "name": "stdout",
     "output_type": "stream",
     "text": [
      "CV results: {'mean_fit_time': array([0.12060086, 0.12273884, 0.11975106, 0.12019722, 0.1189096 ,\n",
      "       0.11972753, 0.15437587, 0.16839536, 0.16498176, 0.15100837,\n",
      "       0.15231609, 0.15692663, 0.11650825, 0.12427839, 0.12080145,\n",
      "       0.11694892, 0.11648941, 0.11586968, 0.15610027, 0.15375193,\n",
      "       0.15039229, 0.15717967, 0.15578802, 0.15687164]), 'std_fit_time': array([0.00245304, 0.00538772, 0.00115011, 0.00260494, 0.00731823,\n",
      "       0.00541608, 0.00842088, 0.01679562, 0.00534594, 0.00373927,\n",
      "       0.00307193, 0.00476557, 0.00163397, 0.00650415, 0.00323263,\n",
      "       0.00085959, 0.00110574, 0.00046953, 0.0046389 , 0.00187552,\n",
      "       0.00121228, 0.00716273, 0.0019329 , 0.00573221]), 'mean_score_time': array([0.02267583, 0.02532824, 0.02323469, 0.02208408, 0.02150877,\n",
      "       0.02189342, 0.03264173, 0.0407594 , 0.03424064, 0.03273106,\n",
      "       0.03315711, 0.03341762, 0.02238671, 0.02335103, 0.02252181,\n",
      "       0.02208718, 0.02205896, 0.02154644, 0.03276126, 0.03337534,\n",
      "       0.03458977, 0.03314877, 0.03440936, 0.03308105]), 'std_score_time': array([0.00023505, 0.00571576, 0.00035608, 0.00058974, 0.00083279,\n",
      "       0.00048562, 0.00086101, 0.01054808, 0.00232383, 0.00035049,\n",
      "       0.00102842, 0.00101769, 0.00061765, 0.00030701, 0.00060625,\n",
      "       0.00047529, 0.00114081, 0.00018653, 0.00053798, 0.00127604,\n",
      "       0.00180148, 0.00049541, 0.00122866, 0.00108005]), 'param_alpha': masked_array(data=[0.01, 0.01, 0.01, 0.01, 0.01, 0.01, 0.01, 0.01, 0.01,\n",
      "                   0.01, 0.01, 0.01, 0.025, 0.025, 0.025, 0.025, 0.025,\n",
      "                   0.025, 0.025, 0.025, 0.025, 0.025, 0.025, 0.025],\n",
      "             mask=[False, False, False, False, False, False, False, False,\n",
      "                   False, False, False, False, False, False, False, False,\n",
      "                   False, False, False, False, False, False, False, False],\n",
      "       fill_value='?',\n",
      "            dtype=object), 'param_dm': masked_array(data=[0, 0, 0, 0, 0, 0, 1, 1, 1, 1, 1, 1, 0, 0, 0, 0, 0, 0,\n",
      "                   1, 1, 1, 1, 1, 1],\n",
      "             mask=[False, False, False, False, False, False, False, False,\n",
      "                   False, False, False, False, False, False, False, False,\n",
      "                   False, False, False, False, False, False, False, False],\n",
      "       fill_value='?',\n",
      "            dtype=object), 'param_vector_size': masked_array(data=[50, 50, 20, 20, 10, 10, 50, 50, 20, 20, 10, 10, 50, 50,\n",
      "                   20, 20, 10, 10, 50, 50, 20, 20, 10, 10],\n",
      "             mask=[False, False, False, False, False, False, False, False,\n",
      "                   False, False, False, False, False, False, False, False,\n",
      "                   False, False, False, False, False, False, False, False],\n",
      "       fill_value='?',\n",
      "            dtype=object), 'param_window': masked_array(data=[2, 5, 2, 5, 2, 5, 2, 5, 2, 5, 2, 5, 2, 5, 2, 5, 2, 5,\n",
      "                   2, 5, 2, 5, 2, 5],\n",
      "             mask=[False, False, False, False, False, False, False, False,\n",
      "                   False, False, False, False, False, False, False, False,\n",
      "                   False, False, False, False, False, False, False, False],\n",
      "       fill_value='?',\n",
      "            dtype=object), 'params': [{'alpha': 0.01, 'dm': 0, 'vector_size': 50, 'window': 2}, {'alpha': 0.01, 'dm': 0, 'vector_size': 50, 'window': 5}, {'alpha': 0.01, 'dm': 0, 'vector_size': 20, 'window': 2}, {'alpha': 0.01, 'dm': 0, 'vector_size': 20, 'window': 5}, {'alpha': 0.01, 'dm': 0, 'vector_size': 10, 'window': 2}, {'alpha': 0.01, 'dm': 0, 'vector_size': 10, 'window': 5}, {'alpha': 0.01, 'dm': 1, 'vector_size': 50, 'window': 2}, {'alpha': 0.01, 'dm': 1, 'vector_size': 50, 'window': 5}, {'alpha': 0.01, 'dm': 1, 'vector_size': 20, 'window': 2}, {'alpha': 0.01, 'dm': 1, 'vector_size': 20, 'window': 5}, {'alpha': 0.01, 'dm': 1, 'vector_size': 10, 'window': 2}, {'alpha': 0.01, 'dm': 1, 'vector_size': 10, 'window': 5}, {'alpha': 0.025, 'dm': 0, 'vector_size': 50, 'window': 2}, {'alpha': 0.025, 'dm': 0, 'vector_size': 50, 'window': 5}, {'alpha': 0.025, 'dm': 0, 'vector_size': 20, 'window': 2}, {'alpha': 0.025, 'dm': 0, 'vector_size': 20, 'window': 5}, {'alpha': 0.025, 'dm': 0, 'vector_size': 10, 'window': 2}, {'alpha': 0.025, 'dm': 0, 'vector_size': 10, 'window': 5}, {'alpha': 0.025, 'dm': 1, 'vector_size': 50, 'window': 2}, {'alpha': 0.025, 'dm': 1, 'vector_size': 50, 'window': 5}, {'alpha': 0.025, 'dm': 1, 'vector_size': 20, 'window': 2}, {'alpha': 0.025, 'dm': 1, 'vector_size': 20, 'window': 5}, {'alpha': 0.025, 'dm': 1, 'vector_size': 10, 'window': 2}, {'alpha': 0.025, 'dm': 1, 'vector_size': 10, 'window': 5}], 'split0_test_score': array([-0.01992577, -0.01992577, -0.03155343, -0.03155343, -0.01700705,\n",
      "       -0.01700705, -0.01995023, -0.0199816 , -0.03145037, -0.03146382,\n",
      "       -0.01696263, -0.01697283, -0.01943339, -0.01943339, -0.03104854,\n",
      "       -0.03104854, -0.01691682, -0.01691682, -0.01950103, -0.01974534,\n",
      "       -0.03032478, -0.0302904 , -0.01659435, -0.01662106]), 'split1_test_score': array([-0.01155652, -0.01155652, -0.01200307, -0.01200307, -0.02217314,\n",
      "       -0.02217314, -0.01152889, -0.01155697, -0.01201654, -0.01207334,\n",
      "       -0.02207345, -0.02197948, -0.01183304, -0.01183304, -0.01228335,\n",
      "       -0.01228335, -0.02248576, -0.02248576, -0.0116449 , -0.01188049,\n",
      "       -0.01242434, -0.01290189, -0.02172893, -0.02102277]), 'split2_test_score': array([-0.009765  , -0.009765  , -0.01230733, -0.01230733, -0.01733382,\n",
      "       -0.01733382, -0.00975409, -0.00972874, -0.01235065, -0.01233533,\n",
      "       -0.01737798, -0.01740667, -0.00992551, -0.00992551, -0.01241953,\n",
      "       -0.01241953, -0.01709562, -0.01709562, -0.00982685, -0.00964443,\n",
      "       -0.01273735, -0.01261986, -0.01736196, -0.01756067]), 'mean_test_score': array([-0.01381086, -0.01381086, -0.0187506 , -0.0187506 , -0.01881969,\n",
      "       -0.01881969, -0.01380646, -0.01381803, -0.0187343 , -0.01875256,\n",
      "       -0.01878627, -0.01876819, -0.01378768, -0.01378768, -0.01870845,\n",
      "       -0.01870845, -0.01881357, -0.01881357, -0.01371603, -0.01381664,\n",
      "       -0.01861378, -0.01872091, -0.01854207, -0.01838369]), 'std_test_score': array([0.00444884, 0.00444884, 0.00918994, 0.00918994, 0.00235728,\n",
      "       0.00235728, 0.00446817, 0.00448575, 0.00912785, 0.00912401,\n",
      "       0.00231323, 0.0022607 , 0.00412558, 0.00412558, 0.00885715,\n",
      "       0.00885715, 0.00257821, 0.00257821, 0.00421729, 0.00435113,\n",
      "       0.00840642, 0.00830468, 0.00225852, 0.00189162]), 'rank_test_score': array([ 5,  5, 16, 16, 23, 23,  4,  8, 15, 18, 20, 19,  2,  2, 12, 12, 21,\n",
      "       21,  1,  7, 11, 14, 10,  9], dtype=int32)}\n"
     ]
    }
   ],
   "source": [
    "size = 100\n",
    "# arguments have to be constructed such that it meets the Estimator's standard in order to work with sklearn module.\n",
    "model.trainCV(uids[:size],[(sentences1[i],sentences2[i]) for i in range(size)])"
   ]
  },
  {
   "cell_type": "code",
   "execution_count": 127,
   "metadata": {},
   "outputs": [
    {
     "data": {
      "text/plain": [
       "{'alpha': 0.025, 'dm': 1, 'vector_size': 50, 'window': 2}"
      ]
     },
     "execution_count": 127,
     "metadata": {},
     "output_type": "execute_result"
    }
   ],
   "source": [
    "model.bestParam"
   ]
  },
  {
   "cell_type": "markdown",
   "metadata": {},
   "source": [
    "Take a visual impression of the model's performance."
   ]
  },
  {
   "cell_type": "code",
   "execution_count": 128,
   "metadata": {},
   "outputs": [],
   "source": [
    "import matplotlib.pyplot as plt\n",
    "%matplotlib inline"
   ]
  },
  {
   "cell_type": "markdown",
   "metadata": {},
   "source": [
    "Note that for some model, the absolute values are not comparable with the pseudo ground truth at the same scale."
   ]
  },
  {
   "cell_type": "code",
   "execution_count": 138,
   "metadata": {},
   "outputs": [
    {
     "data": {
      "image/png": "[encoded data removed]",
      "text/plain": [
       "<Figure size 1296x288 with 1 Axes>"
      ]
     },
     "metadata": {
      "needs_background": "light"
     },
     "output_type": "display_data"
    }
   ],
   "source": [
    "plt.figure(figsize=(18,4))\n",
    "random.seed(100)\n",
    "testUIDs = random.sample(testSets,100)\n",
    "plt.title(\"Comparison of similarity data on andomly selected 100 course pairs\")\n",
    "plt.plot(np.array(model.predict(testUIDs)),label = \"predicted\")\n",
    "plt.plot(np.array([TRUTHTABLE[uid] for uid in testUIDs]),label = \"pseudo truth\")\n",
    "_ = plt.legend()"
   ]
  },
  {
   "cell_type": "markdown",
   "metadata": {},
   "source": [
    "### Summary of results\n",
    "1. By visual inspections, most of the functionalities work well.\n",
    "2. The document vector model actually works worse than the word vector model. This may be due to the limited number of total documents.\n",
    "3. About 15% - 20% of total USC courses which have prerequisites have prerequisite courses in their top3 most relevant courses.\n",
    "4. The same-school test shows that most relevant courses do almost all come from same school\n",
    "5. UCLA CS course querying is accurate for typical courses like algorithm, database, machine learning, etc."
   ]
  }
 ],
 "metadata": {
  "kernelspec": {
   "display_name": "Python 3",
   "language": "python",
   "name": "python3"
  },
  "language_info": {
   "codemirror_mode": {
    "name": "ipython",
    "version": 3
   },
   "file_extension": ".py",
   "mimetype": "text/x-python",
   "name": "python",
   "nbconvert_exporter": "python",
   "pygments_lexer": "ipython3",
   "version": "3.7.4"
  }
 },
 "nbformat": 4,
 "nbformat_minor": 2
}
